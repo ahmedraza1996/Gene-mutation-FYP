{
 "cells": [
  {
   "cell_type": "code",
   "execution_count": 1,
   "metadata": {},
   "outputs": [
    {
     "name": "stderr",
     "output_type": "stream",
     "text": [
      "C:\\Users\\ahmed\\Anaconda3\\envs\\tf_gpu\\lib\\site-packages\\sklearn\\utils\\deprecation.py:144: FutureWarning: The sklearn.feature_extraction.stop_words module is  deprecated in version 0.22 and will be removed in version 0.24. The corresponding classes / functions should instead be imported from sklearn.feature_extraction.text. Anything that cannot be imported from sklearn.feature_extraction.text is now part of the private API.\n",
      "  warnings.warn(message, FutureWarning)\n"
     ]
    }
   ],
   "source": [
    "import os\n",
    "import re\n",
    "import tqdm\n",
    "import string\n",
    "import pandas as pd\n",
    "import numpy as np\n",
    "from nltk.corpus import stopwords \n",
    "from gensim.models import Doc2Vec\n",
    "from gensim.models.doc2vec import LabeledSentence\n",
    "#Gensim is a Python library for *topic modelling*, *document indexing* and *similarity retrieval* with large corpora.\n",
    "from gensim import utils as gutils\n",
    "import matplotlib.pyplot as plt\n",
    "import itertools\n",
    "from spacy.lang.en.stop_words import STOP_WORDS\n",
    "from sklearn.feature_extraction.stop_words import ENGLISH_STOP_WORDS"
   ]
  },
  {
   "cell_type": "code",
   "execution_count": 2,
   "metadata": {},
   "outputs": [],
   "source": [
    "def loadData():\n",
    "    '''\n",
    "    #loading original data\n",
    "    @return: \n",
    "        all_data, the raw data with 4 fields: [ID, Gene, Variation, Text]\n",
    "        train_size, \n",
    "        test_size\n",
    "    '''\n",
    "    train_variant = pd.read_csv(\"PM/data/training_variants\")\n",
    "    test_variant = pd.read_csv(\"PM/data/stage2_test_variants.csv\")\n",
    "    train_text = pd.read_csv(\"PM/data/training_text\", sep = \"\\|\\|\", engine = 'python', header=None, skiprows=1, names=[\"ID\",\"Text\"])\n",
    "    test_text = pd.read_csv(\"PM/data/stage2_test_text.csv\", sep = \"\\|\\|\", engine = 'python', header=None, skiprows=1, names=[\"ID\",\"Text\"])\n",
    "    train1 = pd.merge(train_variant, train_text, how = 'inner', on = 'ID')\n",
    "    #train2 is that we use some labeled 1st stage test data as training data too \n",
    "    train2_variant = pd.read_csv(\"PM/data/test_variants\" , names= [\"ID\", \"Gene\", \"Variant\",\"Class\"])\n",
    "    del(train2_variant[\"Class\"])\n",
    "    train2_text = pd.read_csv(\"PM/data/test_text\", sep = \"\\|\\|\", engine = 'python', header=None, skiprows=1, names=[\"ID\",\"Text\"])\n",
    "    train2_solution = test_solution = pd.read_csv(\"PM/data/stage1_solution_filtered.csv\", sep = \",\")\n",
    "    train2_id = train2_solution['ID'].values\n",
    "    train2_tmp = np.array(train2_solution.drop('ID', axis = 1))\n",
    "    train2_tmp2 = np.argmax(train2_tmp, axis = 1) + 1\n",
    "    train2 = pd.DataFrame(np.vstack((train2_id, train2_tmp2)).T, columns = ['ID', 'Class'])\n",
    "    train2 = pd.merge(train2_variant, train2, how = 'inner', on = 'ID')\n",
    "    train2 = pd.merge(train2, train2_text, how = 'inner', on = 'ID')\n",
    "    train = pd.DataFrame(np.concatenate((train1, train2), axis=0))\n",
    "    train.columns = [\"ID\", \"Gene\", \"Variation\", \"Class\", \"Text\"]\n",
    "    train_y = train['Class'].values\n",
    "    train_y = np.array(train_y, dtype = int)\n",
    "    train_x = train.drop('Class', axis = 1)\n",
    "    train_size = len(train_x)\n",
    "    test_x = pd.merge(test_variant, test_text, how = 'inner', on = 'ID')\n",
    "    test_size = len(test_x)\n",
    "    test_index = test_x['ID'].values\n",
    "    all_data = np.concatenate((train_x, test_x), axis=0)\n",
    "    all_data = pd.DataFrame(all_data)\n",
    "    all_data.columns = [\"ID\", \"Gene\", \"Variation\", \"Text\"]\n",
    "    #print(all_data.head())\n",
    "    return [all_data, train_size, test_size, train_x, train_y, test_x]\n"
   ]
  },
  {
   "cell_type": "code",
   "execution_count": null,
   "metadata": {},
   "outputs": [],
   "source": []
  },
  {
   "cell_type": "code",
   "execution_count": 3,
   "metadata": {},
   "outputs": [],
   "source": [
    "all_data, train_size, test_size, train_x, train_y, test_x=loadData()"
   ]
  },
  {
   "cell_type": "code",
   "execution_count": 4,
   "metadata": {},
   "outputs": [
    {
     "data": {
      "text/plain": [
       "array([1, 2, 2, ..., 2, 7, 2])"
      ]
     },
     "execution_count": 4,
     "metadata": {},
     "output_type": "execute_result"
    }
   ],
   "source": [
    "train_y"
   ]
  },
  {
   "cell_type": "code",
   "execution_count": 5,
   "metadata": {},
   "outputs": [],
   "source": [
    "def constructLabeledSentences(data):\n",
    "    sentences=[]\n",
    "    for index, row in data.iteritems():\n",
    "        sentences.append(LabeledSentence(gutils.to_unicode(row).split(), ['Text' + '_%s' % str(index)]))\n",
    "    return sentences\n",
    "def constructSentences(data):\n",
    "    sentences=[]\n",
    "    for index, row in data.iteritems():\n",
    "        sentences.append(gutils.to_unicode(row).split())\n",
    "    return sentences    \n",
    "def textClean(text):\n",
    "    text = re.sub(r\"[^A-Za-z0-9^,!.\\/'+-=]\", \" \", text)\n",
    "    text = text.lower().split()\n",
    "    stops = set(stopwords.words(\"english\"))\n",
    "    sw=set(stopwords.words('english')).union(set(ENGLISH_STOP_WORDS))\n",
    "    sw= sw.union(set(STOP_WORDS))\n",
    "    mystopwordlist=set(['fig.', 'references', 'result','go to','preferences', 'results', 'discussion',\n",
    "                    'methods', 'acknowledgements', 'figure', 'table', 'abstract' ,\n",
    "                    'background', 'go', 'introduction', 'null', 'author', 'find','found','show','result',\n",
    "                    'results', 'analyze', 'supplementry','the', 'et','al' ,'al.','also','study',\n",
    "                    'mutation', 'mutations','cell','gene','mutant','[1]','[2]','[3]','[4]','[5]','[6]','[7]','[8]','[9]'])\n",
    "    sw|= set(mystopwordlist)\n",
    "    text = [w for w in text if not w in sw]    \n",
    "    text = \" \".join(text)\n",
    "    return(text)\n",
    "    \n",
    "def cleanup(text):\n",
    "    text = textClean(text)\n",
    "   \n",
    "    text= text.translate(str.maketrans(\"\",\"\", string.punctuation))\n",
    "    return text\n",
    "\n",
    "\n",
    "def data_preprocess(all_data):\n",
    "    '''\n",
    "    @param all_data, the raw data loaded from loadData() function, containing 4 fields: [ID, Gene, Variation, Text]\n",
    "    @return \n",
    "    '''\n",
    "    allText = all_data['Text'].apply(cleanup) # a list of str\n",
    "    sentences = constructLabeledSentences(allText)\n",
    "    w_sentences= constructSentences(allText)\n",
    "    return sentences , w_sentences\n",
    "\n"
   ]
  },
  {
   "cell_type": "code",
   "execution_count": 6,
   "metadata": {},
   "outputs": [
    {
     "name": "stdout",
     "output_type": "stream",
     "text": [
      "<class 'pandas.core.frame.DataFrame'>\n",
      "RangeIndex: 4328 entries, 0 to 4327\n",
      "Data columns (total 4 columns):\n",
      "ID           4328 non-null object\n",
      "Gene         4328 non-null object\n",
      "Variation    4328 non-null object\n",
      "Text         4323 non-null object\n",
      "dtypes: object(4)\n",
      "memory usage: 135.4+ KB\n"
     ]
    }
   ],
   "source": [
    "all_data.info()"
   ]
  },
  {
   "cell_type": "code",
   "execution_count": 7,
   "metadata": {},
   "outputs": [
    {
     "data": {
      "text/plain": [
       "3342"
      ]
     },
     "execution_count": 7,
     "metadata": {},
     "output_type": "execute_result"
    }
   ],
   "source": [
    "train_size"
   ]
  },
  {
   "cell_type": "code",
   "execution_count": 8,
   "metadata": {},
   "outputs": [
    {
     "data": {
      "text/plain": [
       "986"
      ]
     },
     "execution_count": 8,
     "metadata": {},
     "output_type": "execute_result"
    }
   ],
   "source": [
    "test_size"
   ]
  },
  {
   "cell_type": "code",
   "execution_count": 9,
   "metadata": {},
   "outputs": [],
   "source": [
    "all_data.fillna(\"\", inplace=True)"
   ]
  },
  {
   "cell_type": "code",
   "execution_count": 10,
   "metadata": {},
   "outputs": [
    {
     "name": "stdout",
     "output_type": "stream",
     "text": [
      "<class 'pandas.core.frame.DataFrame'>\n",
      "RangeIndex: 4328 entries, 0 to 4327\n",
      "Data columns (total 4 columns):\n",
      "ID           4328 non-null int64\n",
      "Gene         4328 non-null object\n",
      "Variation    4328 non-null object\n",
      "Text         4328 non-null object\n",
      "dtypes: int64(1), object(3)\n",
      "memory usage: 135.4+ KB\n"
     ]
    }
   ],
   "source": [
    "all_data.info()"
   ]
  },
  {
   "cell_type": "code",
   "execution_count": 11,
   "metadata": {},
   "outputs": [
    {
     "name": "stderr",
     "output_type": "stream",
     "text": [
      "C:\\Users\\ahmed\\Anaconda3\\envs\\tf_gpu\\lib\\site-packages\\ipykernel_launcher.py:4: DeprecationWarning: Call to deprecated `LabeledSentence` (Class will be removed in 4.0.0, use TaggedDocument instead).\n",
      "  after removing the cwd from sys.path.\n"
     ]
    }
   ],
   "source": [
    "sentences, w_sentences=data_preprocess(all_data)\n"
   ]
  },
  {
   "cell_type": "code",
   "execution_count": 12,
   "metadata": {},
   "outputs": [
    {
     "data": {
      "text/plain": [
       "['cyclindependent',\n",
       " 'kinases',\n",
       " 'cdks',\n",
       " 'regulate',\n",
       " 'variety',\n",
       " 'fundamental',\n",
       " 'cellular',\n",
       " 'processes',\n",
       " 'cdk10',\n",
       " 'stands',\n",
       " 'orphan',\n",
       " 'cdks',\n",
       " 'activating',\n",
       " 'cyclin',\n",
       " 'identified',\n",
       " 'kinase',\n",
       " 'activity',\n",
       " 'revealed',\n",
       " 'previous',\n",
       " 'work',\n",
       " 'shown',\n",
       " 'cdk10',\n",
       " 'silencing',\n",
       " 'increases',\n",
       " 'ets2',\n",
       " 'vets',\n",
       " 'erythroblastosis',\n",
       " 'virus',\n",
       " 'e26',\n",
       " 'oncogene',\n",
       " 'homolog',\n",
       " '2',\n",
       " 'driven',\n",
       " 'activation',\n",
       " 'mapk',\n",
       " 'pathway',\n",
       " 'confers',\n",
       " 'tamoxifen',\n",
       " 'resistance',\n",
       " 'breast',\n",
       " 'cancer',\n",
       " 'cells',\n",
       " 'precise',\n",
       " 'mechanisms',\n",
       " 'cdk10',\n",
       " 'modulates',\n",
       " 'ets2',\n",
       " 'activity',\n",
       " 'generally',\n",
       " 'functions',\n",
       " 'cdk10',\n",
       " 'remain',\n",
       " 'elusive',\n",
       " 'demonstrate',\n",
       " 'cdk10',\n",
       " 'cyclindependent',\n",
       " 'kinase',\n",
       " 'identifying',\n",
       " 'cyclin',\n",
       " 'activating',\n",
       " 'cyclin',\n",
       " 'cyclin',\n",
       " 'm',\n",
       " 'orphan',\n",
       " 'cyclin',\n",
       " 'product',\n",
       " 'fam58a',\n",
       " 'cause',\n",
       " 'star',\n",
       " 'syndrome',\n",
       " 'human',\n",
       " 'developmental',\n",
       " 'anomaly',\n",
       " 'features',\n",
       " 'include',\n",
       " 'toe',\n",
       " 'syndactyly',\n",
       " 'telecanthus',\n",
       " 'anogenital',\n",
       " 'renal',\n",
       " 'malformations',\n",
       " 'star',\n",
       " 'syndromeassociated',\n",
       " 'cyclin',\n",
       " 'mutants',\n",
       " 'unable',\n",
       " 'interact',\n",
       " 'cdk10',\n",
       " 'cyclin',\n",
       " 'silencing',\n",
       " 'phenocopies',\n",
       " 'cdk10',\n",
       " 'silencing',\n",
       " 'increasing',\n",
       " 'craf',\n",
       " 'conferring',\n",
       " 'tamoxifen',\n",
       " 'resistance',\n",
       " 'breast',\n",
       " 'cancer',\n",
       " 'cells',\n",
       " 'cdk10cyclin',\n",
       " 'phosphorylates',\n",
       " 'ets2',\n",
       " 'vitro',\n",
       " 'cells',\n",
       " 'positively',\n",
       " 'controls',\n",
       " 'ets2',\n",
       " 'degradation',\n",
       " 'proteasome',\n",
       " 'ets2',\n",
       " 'protein',\n",
       " 'levels',\n",
       " 'increased',\n",
       " 'cells',\n",
       " 'derived',\n",
       " 'star',\n",
       " 'patient',\n",
       " 'increase',\n",
       " 'attributable',\n",
       " 'decreased',\n",
       " 'cyclin',\n",
       " 'levels',\n",
       " 'altogether',\n",
       " 'reveal',\n",
       " 'additional',\n",
       " 'regulatory',\n",
       " 'mechanism',\n",
       " 'ets2',\n",
       " 'plays',\n",
       " 'key',\n",
       " 'roles',\n",
       " 'cancer',\n",
       " 'development',\n",
       " 'shed',\n",
       " 'light',\n",
       " 'molecular',\n",
       " 'mechanisms',\n",
       " 'underlying',\n",
       " 'star',\n",
       " 'syndromecyclindependent',\n",
       " 'kinases',\n",
       " 'cdks',\n",
       " 'play',\n",
       " 'pivotal',\n",
       " 'role',\n",
       " 'control',\n",
       " 'number',\n",
       " 'fundamental',\n",
       " 'cellular',\n",
       " 'processes',\n",
       " '1',\n",
       " 'human',\n",
       " 'genome',\n",
       " 'contains',\n",
       " '21',\n",
       " 'genes',\n",
       " 'encoding',\n",
       " 'proteins',\n",
       " 'considered',\n",
       " 'members',\n",
       " 'cdk',\n",
       " 'family',\n",
       " 'owing',\n",
       " 'sequence',\n",
       " 'similarity',\n",
       " 'bona',\n",
       " 'fide',\n",
       " 'cdks',\n",
       " 'known',\n",
       " 'activated',\n",
       " 'cyclins',\n",
       " '2',\n",
       " 'discovered',\n",
       " '20',\n",
       " 'ago',\n",
       " '3',\n",
       " '4',\n",
       " 'cdk10',\n",
       " 'remains',\n",
       " 'cdks',\n",
       " 'identified',\n",
       " 'cyclin',\n",
       " 'partner',\n",
       " 'knowledge',\n",
       " 'gap',\n",
       " 'largely',\n",
       " 'impeded',\n",
       " 'exploration',\n",
       " 'biological',\n",
       " 'functions',\n",
       " 'cdk10',\n",
       " 'act',\n",
       " 'positive',\n",
       " 'cycle',\n",
       " 'regulator',\n",
       " 'cells',\n",
       " '5',\n",
       " '6',\n",
       " 'tumor',\n",
       " 'suppressor',\n",
       " '7',\n",
       " '8',\n",
       " 'cdk10',\n",
       " 'interacts',\n",
       " 'ets2',\n",
       " 'vets',\n",
       " 'erythroblastosis',\n",
       " 'virus',\n",
       " 'e26',\n",
       " 'oncogene',\n",
       " 'homolog',\n",
       " '2',\n",
       " 'transcription',\n",
       " 'factor',\n",
       " 'inhibits',\n",
       " 'transcriptional',\n",
       " 'activity',\n",
       " 'unknown',\n",
       " 'mechanism',\n",
       " '9',\n",
       " 'cdk10',\n",
       " 'knockdown',\n",
       " 'derepresses',\n",
       " 'ets2',\n",
       " 'increases',\n",
       " 'expression',\n",
       " 'craf',\n",
       " 'protein',\n",
       " 'kinase',\n",
       " 'activates',\n",
       " 'mapk',\n",
       " 'pathway',\n",
       " 'induces',\n",
       " 'resistance',\n",
       " 'mcf7',\n",
       " 'cells',\n",
       " 'tamoxifen',\n",
       " '6',\n",
       " 'here',\n",
       " 'deorphanize',\n",
       " 'cdk10',\n",
       " 'identifying',\n",
       " 'cyclin',\n",
       " 'm',\n",
       " 'product',\n",
       " 'fam58a',\n",
       " 'binding',\n",
       " 'partner',\n",
       " 'predict',\n",
       " 'absence',\n",
       " 'truncation',\n",
       " 'cyclin',\n",
       " 'associated',\n",
       " 'star',\n",
       " 'syndrome',\n",
       " 'features',\n",
       " 'include',\n",
       " 'toe',\n",
       " 'syndactyly',\n",
       " 'telecanthus',\n",
       " 'anogenital',\n",
       " 'renal',\n",
       " 'malformations',\n",
       " 'heterozygous',\n",
       " 'females',\n",
       " '10',\n",
       " 'however',\n",
       " 'functions',\n",
       " 'cyclin',\n",
       " 'pathogenesis',\n",
       " 'star',\n",
       " 'syndrome',\n",
       " 'remain',\n",
       " 'unknown',\n",
       " 'recombinant',\n",
       " 'cdk10cyclin',\n",
       " 'heterodimer',\n",
       " 'active',\n",
       " 'protein',\n",
       " 'kinase',\n",
       " 'phosphorylates',\n",
       " 'ets2',\n",
       " 'vitro',\n",
       " 'cyclin',\n",
       " 'silencing',\n",
       " 'phenocopies',\n",
       " 'cdk10',\n",
       " 'silencing',\n",
       " 'increasing',\n",
       " 'craf',\n",
       " 'phosphoerk',\n",
       " 'expression',\n",
       " 'levels',\n",
       " 'inducing',\n",
       " 'tamoxifen',\n",
       " 'resistance',\n",
       " 'estrogen',\n",
       " 'receptor',\n",
       " 'er',\n",
       " 'breast',\n",
       " 'cancer',\n",
       " 'cells',\n",
       " 'cdk10cyclin',\n",
       " 'positively',\n",
       " 'controls',\n",
       " 'ets2',\n",
       " 'degradation',\n",
       " 'proteasome',\n",
       " 'phosphorylation',\n",
       " 'neighboring',\n",
       " 'serines',\n",
       " 'finally',\n",
       " 'detect',\n",
       " 'increased',\n",
       " 'ets2',\n",
       " 'expression',\n",
       " 'level',\n",
       " 'cells',\n",
       " 'derived',\n",
       " 'star',\n",
       " 'patient',\n",
       " 'demonstrate',\n",
       " 'attributable',\n",
       " 'decreased',\n",
       " 'cyclin',\n",
       " 'expression',\n",
       " 'level',\n",
       " 'observed',\n",
       " 'cellsprevious',\n",
       " 'sectionnext',\n",
       " 'sectionresultsa',\n",
       " 'yeast',\n",
       " 'twohybrid',\n",
       " 'y2h',\n",
       " 'screen',\n",
       " 'unveiled',\n",
       " 'interaction',\n",
       " 'signal',\n",
       " 'cdk10',\n",
       " 'mouse',\n",
       " 'protein',\n",
       " 'cterminal',\n",
       " 'half',\n",
       " 'presents',\n",
       " 'strong',\n",
       " 'sequence',\n",
       " 'homology',\n",
       " 'human',\n",
       " 'fam58a',\n",
       " 'product',\n",
       " 'proposed',\n",
       " 'cyclin',\n",
       " '11',\n",
       " 'performed',\n",
       " 'y2h',\n",
       " 'mating',\n",
       " 'assays',\n",
       " 'determine',\n",
       " 'human',\n",
       " 'cdk10',\n",
       " 'interacts',\n",
       " 'human',\n",
       " 'cyclin',\n",
       " '1',\n",
       " 'c',\n",
       " 'longest',\n",
       " 'cdk10',\n",
       " 'isoform',\n",
       " 'p1',\n",
       " 'expressed',\n",
       " 'bait',\n",
       " 'protein',\n",
       " 'produced',\n",
       " 'strong',\n",
       " 'interaction',\n",
       " 'phenotype',\n",
       " 'fulllength',\n",
       " 'cyclin',\n",
       " 'expressed',\n",
       " 'prey',\n",
       " 'protein',\n",
       " 'detectable',\n",
       " 'phenotype',\n",
       " 'cyclin',\n",
       " 'd1',\n",
       " 'p21',\n",
       " 'cip1',\n",
       " 'cdi1',\n",
       " 'kap',\n",
       " 'known',\n",
       " 'binding',\n",
       " 'partners',\n",
       " 'cdks',\n",
       " '1b',\n",
       " 'cdk1',\n",
       " 'cdk3',\n",
       " 'produced',\n",
       " 'y2h',\n",
       " 'signals',\n",
       " 'cyclin',\n",
       " 'm',\n",
       " 'albeit',\n",
       " 'notably',\n",
       " 'weaker',\n",
       " 'observed',\n",
       " 'cdk10',\n",
       " '1b',\n",
       " 'interaction',\n",
       " 'phenotype',\n",
       " 'observed',\n",
       " 'fulllength',\n",
       " 'cyclin',\n",
       " 'cdk10',\n",
       " 'proteins',\n",
       " 'expressed',\n",
       " 'bait',\n",
       " 'prey',\n",
       " 'respectively',\n",
       " 's1a',\n",
       " 'tested',\n",
       " 'different',\n",
       " 'isoforms',\n",
       " 'cdk10',\n",
       " 'cyclin',\n",
       " 'originating',\n",
       " 'alternative',\n",
       " 'splicing',\n",
       " 'truncated',\n",
       " 'cyclin',\n",
       " 'proteins',\n",
       " 'corresponding',\n",
       " 'hypothetical',\n",
       " 'products',\n",
       " 'mutated',\n",
       " 'fam58a',\n",
       " 'genes',\n",
       " 'star',\n",
       " 'syndrome',\n",
       " 'patients',\n",
       " '10',\n",
       " 'shorter',\n",
       " 'isoforms',\n",
       " 'produced',\n",
       " 'interaction',\n",
       " 'phenotypes',\n",
       " '1',\n",
       " 'c',\n",
       " 's1a',\n",
       " 'fig',\n",
       " '1in',\n",
       " 'new',\n",
       " 'window',\n",
       " 'download',\n",
       " 'pptfig',\n",
       " '1cdk10',\n",
       " 'cyclin',\n",
       " 'form',\n",
       " 'interaction',\n",
       " 'complex',\n",
       " 'schematic',\n",
       " 'representation',\n",
       " 'different',\n",
       " 'protein',\n",
       " 'isoforms',\n",
       " 'analyzed',\n",
       " 'y2h',\n",
       " 'assays',\n",
       " 'amino',\n",
       " 'acid',\n",
       " 'numbers',\n",
       " 'indicated',\n",
       " 'black',\n",
       " 'boxes',\n",
       " 'indicate',\n",
       " 'internal',\n",
       " 'deletions',\n",
       " 'red',\n",
       " 'box',\n",
       " 'indicates',\n",
       " 'differing',\n",
       " 'amino',\n",
       " 'acid',\n",
       " 'sequence',\n",
       " 'compared',\n",
       " 'cdk10',\n",
       " 'p1',\n",
       " 'b',\n",
       " 'y2h',\n",
       " 'assay',\n",
       " 'set',\n",
       " 'cdk',\n",
       " 'proteins',\n",
       " 'expressed',\n",
       " 'baits',\n",
       " 'fusion',\n",
       " 'lexa',\n",
       " 'dna',\n",
       " 'binding',\n",
       " 'domain',\n",
       " 'cdk',\n",
       " 'interacting',\n",
       " 'proteins',\n",
       " 'expressed',\n",
       " 'preys',\n",
       " 'fusion',\n",
       " 'b42',\n",
       " 'transcriptional',\n",
       " 'activator',\n",
       " 'peg202',\n",
       " 'pjg45',\n",
       " 'bait',\n",
       " 'prey',\n",
       " 'plasmids',\n",
       " 'expressing',\n",
       " 'lexa',\n",
       " 'b42',\n",
       " 'respectively',\n",
       " 'lacz',\n",
       " 'reporter',\n",
       " 'gene',\n",
       " 'blue',\n",
       " 'yeast',\n",
       " 'indicative',\n",
       " 'y2h',\n",
       " 'interaction',\n",
       " 'phenotype',\n",
       " 'c',\n",
       " 'y2h',\n",
       " 'assay',\n",
       " 'different',\n",
       " 'cdk10',\n",
       " 'cyclin',\n",
       " 'isoforms',\n",
       " 'aminoterminal',\n",
       " 'region',\n",
       " 'ets2',\n",
       " 'known',\n",
       " 'interact',\n",
       " 'cdk10',\n",
       " '9',\n",
       " 'assayed',\n",
       " 'western',\n",
       " 'blot',\n",
       " 'analysis',\n",
       " 'myccdk10',\n",
       " 'wt',\n",
       " 'kd',\n",
       " 'cycmv56his',\n",
       " 'expression',\n",
       " 'levels',\n",
       " 'transfected',\n",
       " 'hek293',\n",
       " 'cells',\n",
       " 'e',\n",
       " 'western',\n",
       " 'blot',\n",
       " 'analysis',\n",
       " 'myccdk10',\n",
       " 'wt',\n",
       " 'kd',\n",
       " 'immunoprecipitates',\n",
       " 'obtained',\n",
       " 'antimyc',\n",
       " 'antibody',\n",
       " 'inputs',\n",
       " 'correspond',\n",
       " '10',\n",
       " 'g',\n",
       " 'total',\n",
       " 'lysates',\n",
       " 'obtained',\n",
       " 'hek293',\n",
       " 'cells',\n",
       " 'coexpressing',\n",
       " 'myccdk10',\n",
       " 'wt',\n",
       " 'kd',\n",
       " 'cycmv56his',\n",
       " 'f',\n",
       " 'western',\n",
       " 'blot',\n",
       " 'analysis',\n",
       " 'immunoprecipitates',\n",
       " 'obtained',\n",
       " 'anticdk10',\n",
       " 'antibody',\n",
       " 'control',\n",
       " 'goat',\n",
       " 'antibody',\n",
       " 'human',\n",
       " 'breast',\n",
       " 'cancer',\n",
       " 'mcf7',\n",
       " 'cells',\n",
       " 'input',\n",
       " 'corresponds',\n",
       " '30',\n",
       " 'g',\n",
       " 'mcf7',\n",
       " 'total',\n",
       " 'lysates',\n",
       " 'lower',\n",
       " 'band',\n",
       " 'doublet',\n",
       " 'observed',\n",
       " 'upper',\n",
       " 'panel',\n",
       " 'comigrates',\n",
       " 'exogenously',\n",
       " 'expressed',\n",
       " 'untagged',\n",
       " 'cdk10',\n",
       " 'corresponds',\n",
       " 'endogenous',\n",
       " 'cdk10',\n",
       " 'upper',\n",
       " 'band',\n",
       " 'doublet',\n",
       " 'corresponds',\n",
       " 'nonspecific',\n",
       " 'signal',\n",
       " 'demonstrated',\n",
       " 'insensitivity',\n",
       " 'overexpression',\n",
       " 'cdk10',\n",
       " 'seen',\n",
       " 'left',\n",
       " 'lane',\n",
       " 'silencing',\n",
       " 'cdk10',\n",
       " 's2b',\n",
       " 'experiment',\n",
       " 'longer',\n",
       " 'gel',\n",
       " 'migration',\n",
       " 'shown',\n",
       " 's1dnext',\n",
       " 'examined',\n",
       " 'ability',\n",
       " 'cdk10',\n",
       " 'cyclin',\n",
       " 'interact',\n",
       " 'expressed',\n",
       " 'human',\n",
       " 'cells',\n",
       " '1',\n",
       " 'e',\n",
       " 'tested',\n",
       " 'wildtype',\n",
       " 'cdk10',\n",
       " 'wt',\n",
       " 'kinase',\n",
       " 'dead',\n",
       " 'kd',\n",
       " 'bearing',\n",
       " 'd181a',\n",
       " 'amino',\n",
       " 'acid',\n",
       " 'substitution',\n",
       " 'abolishes',\n",
       " 'atp',\n",
       " 'binding',\n",
       " '12',\n",
       " 'expressed',\n",
       " 'cyclin',\n",
       " 'mv56his',\n",
       " 'andor',\n",
       " 'myccdk10',\n",
       " 'wt',\n",
       " 'kd',\n",
       " 'human',\n",
       " 'embryonic',\n",
       " 'kidney',\n",
       " 'line',\n",
       " 'hek293',\n",
       " 'expression',\n",
       " 'level',\n",
       " 'cyclin',\n",
       " 'mv56his',\n",
       " 'significantly',\n",
       " 'increased',\n",
       " 'coexpression',\n",
       " 'myccdk10',\n",
       " 'wt',\n",
       " 'kd',\n",
       " 'and',\n",
       " 'lesser',\n",
       " 'extent',\n",
       " 'myccdk10',\n",
       " 'wt',\n",
       " 'kd',\n",
       " 'increased',\n",
       " 'coexpression',\n",
       " 'cyclin',\n",
       " 'mv56his',\n",
       " '1d',\n",
       " 'immunoprecipitated',\n",
       " 'myccdk10',\n",
       " 'proteins',\n",
       " 'detected',\n",
       " 'presence',\n",
       " 'cyclin',\n",
       " 'cdk10',\n",
       " 'wt',\n",
       " 'kd',\n",
       " 'immunoprecipitates',\n",
       " 'proteins',\n",
       " 'coexpressed',\n",
       " 'pairwise',\n",
       " '1e',\n",
       " 'confirmed',\n",
       " 'observations',\n",
       " 'detecting',\n",
       " 'presence',\n",
       " 'myccdk10',\n",
       " 'cyclin',\n",
       " 'mv56his',\n",
       " 'immunoprecipitates',\n",
       " 's1b',\n",
       " 'experiments',\n",
       " 'confirmed',\n",
       " 'lack',\n",
       " 'robust',\n",
       " 'interaction',\n",
       " 'cdk10p2',\n",
       " 'isoform',\n",
       " 'cyclin',\n",
       " 's1c',\n",
       " 'detect',\n",
       " 'interaction',\n",
       " 'endogenous',\n",
       " 'proteins',\n",
       " 'performed',\n",
       " 'immunoprecipitations',\n",
       " 'nontransfected',\n",
       " 'mcf7',\n",
       " 'cells',\n",
       " 'derived',\n",
       " 'human',\n",
       " 'breast',\n",
       " 'cancer',\n",
       " 'cdk10',\n",
       " 'cyclin',\n",
       " 'antibodies',\n",
       " 'detected',\n",
       " 'cognate',\n",
       " 'endogenous',\n",
       " 'proteins',\n",
       " 'western',\n",
       " 'blotting',\n",
       " 'readily',\n",
       " 'detected',\n",
       " 'cyclin',\n",
       " 'immunoprecipitates',\n",
       " 'obtained',\n",
       " 'cdk10',\n",
       " 'antibody',\n",
       " 'control',\n",
       " 'antibody',\n",
       " '1f',\n",
       " 'confirm',\n",
       " 'physical',\n",
       " 'interaction',\n",
       " 'cdk10',\n",
       " 'cyclin',\n",
       " 'human',\n",
       " 'cellsto',\n",
       " 'unveil',\n",
       " 'hypothesized',\n",
       " 'cdk10cyclin',\n",
       " 'protein',\n",
       " 'kinase',\n",
       " 'activity',\n",
       " 'produced',\n",
       " 'gstcdk10',\n",
       " 'strepiicyclin',\n",
       " 'fusion',\n",
       " 'proteins',\n",
       " 'insect',\n",
       " 'cells',\n",
       " 'individually',\n",
       " 'combination',\n",
       " 'observed',\n",
       " 'gstcdk10',\n",
       " 'strepiicyclin',\n",
       " 'copurified',\n",
       " 'confirming',\n",
       " 'interaction',\n",
       " 'cellular',\n",
       " 'model',\n",
       " '2a',\n",
       " 'performed',\n",
       " 'vitro',\n",
       " 'kinase',\n",
       " 'assays',\n",
       " 'purified',\n",
       " 'proteins',\n",
       " 'histone',\n",
       " 'h1',\n",
       " 'generic',\n",
       " 'substrate',\n",
       " 'histone',\n",
       " 'h1',\n",
       " 'phosphorylation',\n",
       " 'detected',\n",
       " 'lysates',\n",
       " 'cells',\n",
       " 'coexpressing',\n",
       " 'gstcdk10',\n",
       " 'strepiicyclin',\n",
       " 'm',\n",
       " 'phosphorylation',\n",
       " 'detected',\n",
       " 'gstcdk10',\n",
       " 'strepiicyclin',\n",
       " 'expressed',\n",
       " 'alone',\n",
       " 'strepiicyclin',\n",
       " 'coexpressed',\n",
       " 'gstcdk10',\n",
       " 'kd',\n",
       " '2a',\n",
       " 'investigated',\n",
       " 'ets2',\n",
       " 'known',\n",
       " 'interact',\n",
       " 'cdk10',\n",
       " '9',\n",
       " '1c',\n",
       " 'phosphorylation',\n",
       " 'substrate',\n",
       " 'cdk10cyclin',\n",
       " 'm',\n",
       " 'detected',\n",
       " 'strong',\n",
       " 'phosphorylation',\n",
       " 'ets2',\n",
       " 'gstcdk10strepiicyclin',\n",
       " 'purified',\n",
       " 'heterodimer',\n",
       " 'phosphorylation',\n",
       " 'detected',\n",
       " 'gstcdk10',\n",
       " 'gstcdk10',\n",
       " 'kd',\n",
       " 'strepiicyclin',\n",
       " 'heterodimer',\n",
       " '2b',\n",
       " 'fig',\n",
       " '2in',\n",
       " 'new',\n",
       " 'window',\n",
       " 'download',\n",
       " 'pptfig',\n",
       " '2cdk10',\n",
       " 'cyclin',\n",
       " 'mdependent',\n",
       " 'protein',\n",
       " 'kinase',\n",
       " 'vitro',\n",
       " 'protein',\n",
       " 'kinase',\n",
       " 'assay',\n",
       " 'histone',\n",
       " 'h1',\n",
       " 'lysates',\n",
       " 'insect',\n",
       " 'cells',\n",
       " 'expressing',\n",
       " 'different',\n",
       " 'proteins',\n",
       " 'purified',\n",
       " 'glutathione',\n",
       " 'sepharose',\n",
       " 'matrix',\n",
       " 'capture',\n",
       " 'gstcdk10',\n",
       " 'wt',\n",
       " 'kd',\n",
       " 'fusion',\n",
       " 'proteins',\n",
       " 'alone',\n",
       " 'complex',\n",
       " 'strcycm',\n",
       " 'fusion',\n",
       " 'protein',\n",
       " 'purified',\n",
       " 'protein',\n",
       " 'expression',\n",
       " 'levels',\n",
       " 'analyzed',\n",
       " 'western',\n",
       " 'blots',\n",
       " 'upper',\n",
       " 'middle',\n",
       " 'kinase',\n",
       " 'activity',\n",
       " 'determined',\n",
       " 'autoradiography',\n",
       " 'histone',\n",
       " 'h1',\n",
       " 'added',\n",
       " 'amounts',\n",
       " 'visualized',\n",
       " 'coomassie',\n",
       " 'staining',\n",
       " 'lower',\n",
       " 'middle',\n",
       " 'b',\n",
       " 'a',\n",
       " 'purified',\n",
       " 'recombinant',\n",
       " '6hisets2',\n",
       " 'substratecdk10',\n",
       " 'silencing',\n",
       " 'shown',\n",
       " 'increase',\n",
       " 'ets2driven',\n",
       " 'craf',\n",
       " 'transcription',\n",
       " 'activate',\n",
       " 'mapk',\n",
       " 'pathway',\n",
       " '6',\n",
       " 'investigated',\n",
       " 'cyclin',\n",
       " 'involved',\n",
       " 'regulatory',\n",
       " 'pathway',\n",
       " 'aim',\n",
       " 'highly',\n",
       " 'specific',\n",
       " 'silencing',\n",
       " 'sirna',\n",
       " 'pools',\n",
       " 'mix',\n",
       " 'different',\n",
       " 'sirnas',\n",
       " 'low',\n",
       " 'final',\n",
       " 'concentration',\n",
       " '10',\n",
       " 'nm',\n",
       " 'cdk10',\n",
       " 'cyclin',\n",
       " 'sirna',\n",
       " 'pools',\n",
       " 'silenced',\n",
       " 'expression',\n",
       " 'cognate',\n",
       " 'targets',\n",
       " '3',\n",
       " 'c',\n",
       " 's2',\n",
       " 'and',\n",
       " 'interestingly',\n",
       " 'cyclin',\n",
       " 'sirna',\n",
       " 'pool',\n",
       " 'caused',\n",
       " 'marked',\n",
       " 'decrease',\n",
       " 'cdk10',\n",
       " 'protein',\n",
       " 'level',\n",
       " '3a',\n",
       " 's2b',\n",
       " 'results',\n",
       " 'shown',\n",
       " '1d',\n",
       " 'suggest',\n",
       " 'cyclin',\n",
       " 'binding',\n",
       " 'stabilizes',\n",
       " 'cdk10',\n",
       " 'cyclin',\n",
       " 'silencing',\n",
       " 'induced',\n",
       " 'increase',\n",
       " 'craf',\n",
       " 'protein',\n",
       " 'mrna',\n",
       " 'levels',\n",
       " '3',\n",
       " 'b',\n",
       " 'c',\n",
       " 'phosphorylated',\n",
       " 'erk1',\n",
       " 'erk2',\n",
       " 'protein',\n",
       " 'levels',\n",
       " 's3b',\n",
       " 'similarly',\n",
       " 'cdk10',\n",
       " 'silencing',\n",
       " 'expected',\n",
       " 'effects',\n",
       " '6',\n",
       " ...]"
      ]
     },
     "execution_count": 12,
     "metadata": {},
     "output_type": "execute_result"
    }
   ],
   "source": [
    "w_sentences[0]"
   ]
  },
  {
   "cell_type": "code",
   "execution_count": 13,
   "metadata": {},
   "outputs": [],
   "source": [
    "lenlist=[]\n",
    "for i in range(len(sentences)):\n",
    "    lenlist.append(len(sentences[i][0]))"
   ]
  },
  {
   "cell_type": "code",
   "execution_count": 14,
   "metadata": {},
   "outputs": [],
   "source": [
    "lenlist=np.array(lenlist)"
   ]
  },
  {
   "cell_type": "code",
   "execution_count": 15,
   "metadata": {},
   "outputs": [
    {
     "data": {
      "text/plain": [
       "47557"
      ]
     },
     "execution_count": 15,
     "metadata": {},
     "output_type": "execute_result"
    }
   ],
   "source": [
    "max(lenlist)"
   ]
  },
  {
   "cell_type": "code",
   "execution_count": 16,
   "metadata": {},
   "outputs": [],
   "source": [
    "class Doc2VecParam:\n",
    "\tdef __init__(self, min_count=1, window=5, size=200, sample=1e-4, negative=5, workers=4, iter=30, seed=1):\n",
    "\t\tself.min_count = min_count\n",
    "\t\tself.window = window\n",
    "\t\tself.size = size\n",
    "\t\tself.sample = sample\n",
    "\t\tself.negative = negative\n",
    "\t\tself.workers = workers\n",
    "\t\tself.iter = iter\n",
    "\t\tself.seed = seed\n",
    "\n",
    "\n",
    "def Doc2VecWrapper(param):\n",
    "\ttext_model = Doc2Vec(min_count=param.min_count, window=param.window, size=param.size, sample=param.sample, negative=param.negative, workers=param.workers, iter=param.iter, seed=param.seed)\n",
    "\treturn text_model"
   ]
  },
  {
   "cell_type": "code",
   "execution_count": null,
   "metadata": {},
   "outputs": [],
   "source": []
  },
  {
   "cell_type": "code",
   "execution_count": null,
   "metadata": {},
   "outputs": [],
   "source": []
  },
  {
   "cell_type": "code",
   "execution_count": null,
   "metadata": {},
   "outputs": [],
   "source": []
  },
  {
   "cell_type": "code",
   "execution_count": 17,
   "metadata": {},
   "outputs": [],
   "source": [
    "from gensim.models import Doc2Vec\n",
    "from gensim.models import KeyedVectors\n",
    "from sklearn.decomposition import TruncatedSVD"
   ]
  },
  {
   "cell_type": "code",
   "execution_count": 18,
   "metadata": {},
   "outputs": [],
   "source": [
    "TEXT_INPUT_DIM=200\n",
    "#Doc2vec(min_count=1, window=30, size=TEXT_INPUT_DIM, sample=1e-4, negative=5, workers=4, iter=30, seed=1)\n",
    "param = Doc2VecParam(1, 30, TEXT_INPUT_DIM, 1e-4, 5, 4, 30, 1)\n",
    "filename='PM/model/doc2vec/docEmbeddings_30_load_all.d2v'\n",
    "GENE_INPUT_DIM=25\n",
    "svd = TruncatedSVD(n_components=GENE_INPUT_DIM, n_iter=25, random_state=12)"
   ]
  },
  {
   "cell_type": "code",
   "execution_count": 19,
   "metadata": {},
   "outputs": [
    {
     "data": {
      "text/plain": [
       "1"
      ]
     },
     "execution_count": 19,
     "metadata": {},
     "output_type": "execute_result"
    }
   ],
   "source": [
    "param.min_count"
   ]
  },
  {
   "cell_type": "code",
   "execution_count": 20,
   "metadata": {},
   "outputs": [],
   "source": [
    "def getTextModel(sentences, param = Doc2VecParam(), filename='', source_file = ''):\n",
    "    '''\n",
    "    \n",
    "    !!!NOT RECOMMENDED!!!\n",
    "    !!!Use loadTextModel() or trainTextModel() instead!!!\n",
    "    Get text_model either from pre-trained models or train it using assigned parameters.\n",
    "    See also util.Doc2VecParam, util.Doc2VecWrapper()\n",
    "    @param: filename, the path to the \n",
    "    @return: text_model for the following\n",
    "    '''\n",
    "    if filename == '' or not os.path.isfile(filename):\n",
    "        print('Creating model...')\n",
    "        filename = 'PM/model/doc2vec/newModel.d2v'\n",
    "        if not os.path.isdir(\"PM/model/doc2vec/\"):\n",
    "            os.mkdir('PM/model/doc2vec')\n",
    "        \n",
    "        source_file = \"/PM/data/bio_nlp_vec/PubMed-shuffle-win-30.bin\"\n",
    "       # Doc2Vec(min_count=param.min_count, window=param.window, size=param.size, sample=param.sample, negative=param.negative, workers=param.workers, iter=param.iter, seed=param.seed)\n",
    "        print(param)\n",
    "        text_model = Doc2VecWrapper(param)\n",
    "        text_model.build_vocab(sentences)\n",
    "        try:   \n",
    "            print(\"intersecting\")\n",
    "            text_model.intersect_word2vec_format(source_file, binary = True, lockf=0.0)\n",
    "        except:\n",
    "            print('Unable to find file: ' + source_file)\n",
    "            return ''\n",
    "        text_model.train(sentences, total_examples=text_model.corpus_count, epochs=text_model.iter)\n",
    "        text_model.save(filename)\n",
    "        print('successfully created the Text Model and save it to ' + filename)\n",
    "        \n",
    "    else:\n",
    "        text_model = loadTextModel(filename)\n",
    "    return text_model\n",
    "\n"
   ]
  },
  {
   "cell_type": "code",
   "execution_count": 21,
   "metadata": {},
   "outputs": [],
   "source": [
    "def loadTextModel(filename = ''):\n",
    "    if filename == '' or not os.path.isfile(filename):\n",
    "        print('Unable to find file: ' + filename)\n",
    "        return\n",
    "    try:\n",
    "        text_model = Doc2Vec.load(filename)\n",
    "    except:\n",
    "        print('Text Model file exists but unable to load.')\n",
    "        return\n",
    "    print('Successfully loaded the textmodel from ' + filename)\n",
    "    return text_model\n",
    "\n"
   ]
  },
  {
   "cell_type": "code",
   "execution_count": 22,
   "metadata": {},
   "outputs": [],
   "source": [
    "def trainTextModel(sentences, param, modelName, PATH = 'PM/model/doc2vec/', outside = False, source_file = ''):\n",
    "    if not os.path.isdir(PATH):\n",
    "        os.mkdir(PATH)\n",
    "    text_model = Doc2VecWrapper(param)\n",
    "    text_model.build_vocab(sentences)\n",
    "    if(outside):\n",
    "        try:\n",
    "            text_model.intersect_word2vec_format(source_file, binary = True, lockf = 0.0)\n",
    "        except:\n",
    "            print(\"Unable to load outside file: \" + source_file)\n",
    "            return None\n",
    "    text_model.train(sentences, total_examples=text_model.corpus_count, epochs=text_model.iter)\n",
    "    print('Successfully trained the text model!')\n",
    "    text_model.save(PATH + modelName)\n",
    "    print('Save the model to: ' + PATH)\n",
    "    return text_model\n",
    "\n",
    "\n",
    "\n"
   ]
  },
  {
   "cell_type": "code",
   "execution_count": 23,
   "metadata": {},
   "outputs": [],
   "source": [
    "def getTextVec(text_model, train_size, test_size, TEXT_INPUT_DIM = 200):\n",
    "    '''\n",
    "    Get the clinical text vector representation based on the text_model\n",
    "    @param: \n",
    "        text_model,\n",
    "        train_size,\n",
    "        test_size,\n",
    "        TEXT_INPUT_DIM, set to 200 as default\n",
    "    @return:\n",
    "        text_train_arrays, text vector in training set\n",
    "        text_test_arrays, ... in test set\n",
    "    '''\n",
    "    text_train_arrays = np.zeros((train_size, TEXT_INPUT_DIM))\n",
    "    text_test_arrays = np.zeros((test_size, TEXT_INPUT_DIM))\n",
    "    for i in range(train_size):\n",
    "        text_train_arrays[i] = text_model.docvecs['Text_'+str(i)]\n",
    "    j = 0\n",
    "    for i in range(train_size, test_size + train_size):\n",
    "        text_test_arrays[j] = text_model.docvecs['Text_'+str(i)]\n",
    "        j += 1\n",
    "    return text_train_arrays, text_test_arrays\n",
    "\n",
    "\n"
   ]
  },
  {
   "cell_type": "code",
   "execution_count": 24,
   "metadata": {},
   "outputs": [],
   "source": [
    "def getGeneVec(all_data, svd):\n",
    "    '''\n",
    "    Get the vector representation for the Gene, the length of the vector is compressed by SVD with default input dimension 25\n",
    "    @param: \n",
    "        all_data,\n",
    "        svd, TruncatedSVD model from sklearn\n",
    "    @return: truncated_one_hot_gene, gene vector representation\n",
    "    '''\n",
    "    one_hot_gene = pd.get_dummies(all_data['Gene'])\n",
    "    truncated_one_hot_gene = svd.fit_transform(one_hot_gene.values)\n",
    "    return truncated_one_hot_gene\n",
    "\n",
    "\n"
   ]
  },
  {
   "cell_type": "code",
   "execution_count": 25,
   "metadata": {},
   "outputs": [],
   "source": [
    "def getVariationVec(all_data, svd):\n",
    "    '''\n",
    "    Get the vector representation for the variation type, the length of the vector is compressed by SVD with default input dimension 25\n",
    "    @param: \n",
    "        all_data,\n",
    "        svd, TruncatedSVD model from sklearn\n",
    "    @return: truncated_one_hot_variation, variation vector representation\n",
    "    '''\n",
    "    one_hot_variation = pd.get_dummies(all_data['Variation'])\n",
    "    truncated_one_hot_variation = svd.fit_transform(one_hot_variation.values)\n",
    "    return truncated_one_hot_variation\n",
    "\n",
    "\n",
    "    \n"
   ]
  },
  {
   "cell_type": "code",
   "execution_count": 26,
   "metadata": {},
   "outputs": [],
   "source": [
    "TEXT_INPUT_DIM=200\n",
    "GENE_INPUT_DIM=25\n",
    "param1 = Doc2VecParam(1, 5, TEXT_INPUT_DIM, 1e-4, 5, 4, 30, 1)\n",
    "filename='PM/model/doc2vec/docEmbeddings_30_load_all.d2v'\n",
    "\n",
    "\n"
   ]
  },
  {
   "cell_type": "code",
   "execution_count": 27,
   "metadata": {},
   "outputs": [
    {
     "data": {
      "text/plain": [
       "1"
      ]
     },
     "execution_count": 27,
     "metadata": {},
     "output_type": "execute_result"
    }
   ],
   "source": [
    "param1.min_count"
   ]
  },
  {
   "cell_type": "code",
   "execution_count": 28,
   "metadata": {},
   "outputs": [
    {
     "name": "stderr",
     "output_type": "stream",
     "text": [
      "C:\\Users\\ahmed\\Anaconda3\\envs\\tf_gpu\\lib\\site-packages\\gensim\\models\\doc2vec.py:570: UserWarning: The parameter `iter` is deprecated, will be removed in 4.0.0, use `epochs` instead.\n",
      "  warnings.warn(\"The parameter `iter` is deprecated, will be removed in 4.0.0, use `epochs` instead.\")\n",
      "C:\\Users\\ahmed\\Anaconda3\\envs\\tf_gpu\\lib\\site-packages\\gensim\\models\\doc2vec.py:574: UserWarning: The parameter `size` is deprecated, will be removed in 4.0.0, use `vector_size` instead.\n",
      "  warnings.warn(\"The parameter `size` is deprecated, will be removed in 4.0.0, use `vector_size` instead.\")\n",
      "C:\\Users\\ahmed\\Anaconda3\\envs\\tf_gpu\\lib\\site-packages\\ipykernel_launcher.py:12: DeprecationWarning: Call to deprecated `iter` (Attribute will be removed in 4.0.0, use self.epochs instead).\n",
      "  if sys.path[0] == '':\n"
     ]
    },
    {
     "name": "stdout",
     "output_type": "stream",
     "text": [
      "Successfully trained the text model!\n",
      "Save the model to: PM/model/doc2vec\n"
     ]
    }
   ],
   "source": [
    "svd = TruncatedSVD(n_components=25, n_iter=GENE_INPUT_DIM, random_state=12)\n",
    "#trainTextModel(sentences=all_data, param, modelName, PATH = 'PM/model/doc2vec/', outside = False, source_file = '')\n",
    "#text_model = getTextModel(sentences=sentences,param=param1, filename=filename)\n",
    "text_model= trainTextModel(sentences=sentences, param=param1, modelName=\"d2v\", PATH='PM/model/doc2vec', outside=False, source_file=\"/PM/data/bio_nlp_vec/PubMed-shuffle-win-30.bin\")\n"
   ]
  },
  {
   "cell_type": "code",
   "execution_count": 29,
   "metadata": {},
   "outputs": [
    {
     "data": {
      "text/plain": [
       "<gensim.models.keyedvectors.Doc2VecKeyedVectors at 0x265834df148>"
      ]
     },
     "execution_count": 29,
     "metadata": {},
     "output_type": "execute_result"
    }
   ],
   "source": [
    "text_model.docvecs "
   ]
  },
  {
   "cell_type": "code",
   "execution_count": null,
   "metadata": {},
   "outputs": [],
   "source": []
  },
  {
   "cell_type": "code",
   "execution_count": 30,
   "metadata": {},
   "outputs": [],
   "source": [
    "truncated_one_hot_gene = getGeneVec(all_data, svd)\n",
    "truncated_one_hot_variation = getVariationVec(all_data, svd)\n",
    "text_train_arrays, text_test_arrays = getTextVec(text_model, train_size, test_size, TEXT_INPUT_DIM)\n",
    "\n",
    "train_set = np.hstack((truncated_one_hot_gene[:train_size], truncated_one_hot_variation[:train_size], text_train_arrays))\n",
    "# N by (25+25+200)\n",
    "test_set = np.hstack((truncated_one_hot_gene[train_size:], truncated_one_hot_variation[train_size:], text_test_arrays))\n"
   ]
  },
  {
   "cell_type": "code",
   "execution_count": 33,
   "metadata": {},
   "outputs": [],
   "source": [
    "from collections import Counter\n",
    "count_dict=Counter(train_y)"
   ]
  },
  {
   "cell_type": "code",
   "execution_count": 34,
   "metadata": {},
   "outputs": [
    {
     "data": {
      "text/plain": [
       "Counter({1: 573, 2: 458, 3: 90, 4: 690, 5: 242, 6: 275, 7: 957, 8: 19, 9: 38})"
      ]
     },
     "execution_count": 34,
     "metadata": {},
     "output_type": "execute_result"
    }
   ],
   "source": [
    "count_dict"
   ]
  },
  {
   "cell_type": "code",
   "execution_count": 31,
   "metadata": {},
   "outputs": [
    {
     "data": {
      "text/plain": [
       "(3342, 250)"
      ]
     },
     "execution_count": 31,
     "metadata": {},
     "output_type": "execute_result"
    }
   ],
   "source": [
    "train_set.shape"
   ]
  },
  {
   "cell_type": "code",
   "execution_count": 32,
   "metadata": {},
   "outputs": [
    {
     "data": {
      "text/plain": [
       "array([[ 1.73611010e-25,  3.58690205e-21, -1.40850001e-20, ...,\n",
       "         1.41942894e+00, -1.96650362e+00,  2.46603251e+00],\n",
       "       [ 2.52191182e-20,  7.78400194e-16,  1.11617132e-15, ...,\n",
       "        -5.50434113e-01, -1.00871956e+00,  1.02565956e+00],\n",
       "       [ 2.52241181e-20,  7.78615660e-16,  1.11035021e-15, ...,\n",
       "        -1.06636548e+00, -7.39341736e-01,  9.64324057e-01],\n",
       "       ...,\n",
       "       [ 1.00000000e+00, -3.18087825e-19, -6.55733015e-21, ...,\n",
       "         3.42455387e-01,  1.25420904e+00,  1.79430461e+00],\n",
       "       [ 1.99552134e-36, -6.61759200e-33, -1.21882352e-32, ...,\n",
       "         1.90345490e+00,  5.13853040e-03,  3.10508877e-01],\n",
       "       [-8.76012426e-25, -9.53274212e-21, -1.36561295e-20, ...,\n",
       "         1.89722061e+00, -1.41675174e+00,  1.23925436e+00]])"
      ]
     },
     "execution_count": 32,
     "metadata": {},
     "output_type": "execute_result"
    }
   ],
   "source": [
    "train_set"
   ]
  },
  {
   "cell_type": "code",
   "execution_count": 35,
   "metadata": {},
   "outputs": [
    {
     "name": "stderr",
     "output_type": "stream",
     "text": [
      "Using TensorFlow backend.\n",
      "C:\\Users\\ahmed\\Anaconda3\\envs\\tf_gpu\\lib\\site-packages\\tensorflow\\python\\framework\\dtypes.py:516: FutureWarning: Passing (type, 1) or '1type' as a synonym of type is deprecated; in a future version of numpy, it will be understood as (type, (1,)) / '(1,)type'.\n",
      "  _np_qint8 = np.dtype([(\"qint8\", np.int8, 1)])\n",
      "C:\\Users\\ahmed\\Anaconda3\\envs\\tf_gpu\\lib\\site-packages\\tensorflow\\python\\framework\\dtypes.py:517: FutureWarning: Passing (type, 1) or '1type' as a synonym of type is deprecated; in a future version of numpy, it will be understood as (type, (1,)) / '(1,)type'.\n",
      "  _np_quint8 = np.dtype([(\"quint8\", np.uint8, 1)])\n",
      "C:\\Users\\ahmed\\Anaconda3\\envs\\tf_gpu\\lib\\site-packages\\tensorflow\\python\\framework\\dtypes.py:518: FutureWarning: Passing (type, 1) or '1type' as a synonym of type is deprecated; in a future version of numpy, it will be understood as (type, (1,)) / '(1,)type'.\n",
      "  _np_qint16 = np.dtype([(\"qint16\", np.int16, 1)])\n",
      "C:\\Users\\ahmed\\Anaconda3\\envs\\tf_gpu\\lib\\site-packages\\tensorflow\\python\\framework\\dtypes.py:519: FutureWarning: Passing (type, 1) or '1type' as a synonym of type is deprecated; in a future version of numpy, it will be understood as (type, (1,)) / '(1,)type'.\n",
      "  _np_quint16 = np.dtype([(\"quint16\", np.uint16, 1)])\n",
      "C:\\Users\\ahmed\\Anaconda3\\envs\\tf_gpu\\lib\\site-packages\\tensorflow\\python\\framework\\dtypes.py:520: FutureWarning: Passing (type, 1) or '1type' as a synonym of type is deprecated; in a future version of numpy, it will be understood as (type, (1,)) / '(1,)type'.\n",
      "  _np_qint32 = np.dtype([(\"qint32\", np.int32, 1)])\n",
      "C:\\Users\\ahmed\\Anaconda3\\envs\\tf_gpu\\lib\\site-packages\\tensorflow\\python\\framework\\dtypes.py:525: FutureWarning: Passing (type, 1) or '1type' as a synonym of type is deprecated; in a future version of numpy, it will be understood as (type, (1,)) / '(1,)type'.\n",
      "  np_resource = np.dtype([(\"resource\", np.ubyte, 1)])\n",
      "C:\\Users\\ahmed\\Anaconda3\\envs\\tf_gpu\\lib\\site-packages\\tensorboard\\compat\\tensorflow_stub\\dtypes.py:541: FutureWarning: Passing (type, 1) or '1type' as a synonym of type is deprecated; in a future version of numpy, it will be understood as (type, (1,)) / '(1,)type'.\n",
      "  _np_qint8 = np.dtype([(\"qint8\", np.int8, 1)])\n",
      "C:\\Users\\ahmed\\Anaconda3\\envs\\tf_gpu\\lib\\site-packages\\tensorboard\\compat\\tensorflow_stub\\dtypes.py:542: FutureWarning: Passing (type, 1) or '1type' as a synonym of type is deprecated; in a future version of numpy, it will be understood as (type, (1,)) / '(1,)type'.\n",
      "  _np_quint8 = np.dtype([(\"quint8\", np.uint8, 1)])\n",
      "C:\\Users\\ahmed\\Anaconda3\\envs\\tf_gpu\\lib\\site-packages\\tensorboard\\compat\\tensorflow_stub\\dtypes.py:543: FutureWarning: Passing (type, 1) or '1type' as a synonym of type is deprecated; in a future version of numpy, it will be understood as (type, (1,)) / '(1,)type'.\n",
      "  _np_qint16 = np.dtype([(\"qint16\", np.int16, 1)])\n",
      "C:\\Users\\ahmed\\Anaconda3\\envs\\tf_gpu\\lib\\site-packages\\tensorboard\\compat\\tensorflow_stub\\dtypes.py:544: FutureWarning: Passing (type, 1) or '1type' as a synonym of type is deprecated; in a future version of numpy, it will be understood as (type, (1,)) / '(1,)type'.\n",
      "  _np_quint16 = np.dtype([(\"quint16\", np.uint16, 1)])\n",
      "C:\\Users\\ahmed\\Anaconda3\\envs\\tf_gpu\\lib\\site-packages\\tensorboard\\compat\\tensorflow_stub\\dtypes.py:545: FutureWarning: Passing (type, 1) or '1type' as a synonym of type is deprecated; in a future version of numpy, it will be understood as (type, (1,)) / '(1,)type'.\n",
      "  _np_qint32 = np.dtype([(\"qint32\", np.int32, 1)])\n",
      "C:\\Users\\ahmed\\Anaconda3\\envs\\tf_gpu\\lib\\site-packages\\tensorboard\\compat\\tensorflow_stub\\dtypes.py:550: FutureWarning: Passing (type, 1) or '1type' as a synonym of type is deprecated; in a future version of numpy, it will be understood as (type, (1,)) / '(1,)type'.\n",
      "  np_resource = np.dtype([(\"resource\", np.ubyte, 1)])\n"
     ]
    }
   ],
   "source": [
    "from imblearn.over_sampling import SMOTE \n",
    "sm = SMOTE(random_state = 2) \n",
    "X_train_res, y_train = sm.fit_sample(train_set, train_y) "
   ]
  },
  {
   "cell_type": "code",
   "execution_count": 37,
   "metadata": {},
   "outputs": [
    {
     "data": {
      "text/plain": [
       "(8613, 250)"
      ]
     },
     "execution_count": 37,
     "metadata": {},
     "output_type": "execute_result"
    }
   ],
   "source": [
    "X_train_res.shape"
   ]
  },
  {
   "cell_type": "code",
   "execution_count": 38,
   "metadata": {},
   "outputs": [],
   "source": [
    "from collections import Counter\n",
    "count_dict=Counter(y_train)"
   ]
  },
  {
   "cell_type": "code",
   "execution_count": 39,
   "metadata": {},
   "outputs": [
    {
     "data": {
      "text/plain": [
       "Counter({1: 957,\n",
       "         2: 957,\n",
       "         3: 957,\n",
       "         4: 957,\n",
       "         5: 957,\n",
       "         6: 957,\n",
       "         7: 957,\n",
       "         8: 957,\n",
       "         9: 957})"
      ]
     },
     "execution_count": 39,
     "metadata": {},
     "output_type": "execute_result"
    }
   ],
   "source": [
    "count_dict"
   ]
  },
  {
   "cell_type": "code",
   "execution_count": 40,
   "metadata": {},
   "outputs": [],
   "source": [
    "encoded_y = pd.get_dummies(y_train)\n",
    "encoded_y = np.array(encoded_y)"
   ]
  },
  {
   "cell_type": "code",
   "execution_count": 59,
   "metadata": {},
   "outputs": [
    {
     "data": {
      "text/plain": [
       "(8613, 9)"
      ]
     },
     "execution_count": 59,
     "metadata": {},
     "output_type": "execute_result"
    }
   ],
   "source": [
    "encoded_y.shape"
   ]
  },
  {
   "cell_type": "code",
   "execution_count": 90,
   "metadata": {},
   "outputs": [],
   "source": [
    "import matplotlib.pyplot as plt\n",
    "\n",
    "from keras.models import Sequential\n",
    "from keras.layers import Dense, Dropout, Embedding,LSTM,Flatten\n",
    "from keras import optimizers\n",
    "from keras.callbacks import EarlyStopping\n"
   ]
  },
  {
   "cell_type": "code",
   "execution_count": 36,
   "metadata": {},
   "outputs": [],
   "source": [
    "def nn_baseline_model(Text_INPUT_DIM = 200, Gene_INPUT_DIM = 25, Variation_INPUT_DIM = 25):\n",
    "    model = Sequential()\n",
    "    model.add(Dense(256, input_dim=Text_INPUT_DIM+ Gene_INPUT_DIM + Variation_INPUT_DIM, init='normal', activation='relu'))\n",
    "    model.add(Dropout(0.3))\n",
    "    model.add(Dense(256, init='normal', activation='relu'))\n",
    "    model.add(Dropout(0.5))\n",
    "    model.add(Dense(80, init='normal', activation='relu'))\n",
    "    model.add(Dense(9, init='normal', activation=\"softmax\"))\n",
    "    \n",
    "    #optimizer = SGD(lr=0.01, decay=1e-6, momentum=0.9, nesterov=True) original type\n",
    "    #optimizer = optimizers.Adadelta(lr=0.5, rho=0.95, epsilon=1e-08, decay=0.0) \n",
    "    optimizer = optimizers.Adam(lr=0.001) \n",
    "    model.compile(loss='categorical_crossentropy', optimizer=optimizer, metrics=['accuracy'])\n",
    "    return model"
   ]
  },
  {
   "cell_type": "code",
   "execution_count": 128,
   "metadata": {},
   "outputs": [],
   "source": [
    "def lstm_baseline_model(r,c):\n",
    "  \n",
    "    lstm_out = 250\n",
    "    model = Sequential()\n",
    "    model.add(LSTM(lstm_out,return_sequences=True, dropout=0.6, input_shape=(1, c)))\n",
    "    model.add(LSTM(lstm_out,return_sequences=True, dropout=0.6, input_shape=(1, c)))\n",
    "    model.add(LSTM(200,return_sequences=True, dropout=0.6, input_shape=(1, c)))\n",
    "    model.add(LSTM(200,return_sequences=True, dropout=0.6, input_shape=(1, c)))\n",
    "    model.add(Dropout(0.3))\n",
    "    model.add(Dense(128, init='normal', activation='relu'))\n",
    "    model.add(Dropout(0.2))\n",
    "    model.add(Dense(128, init='normal', activation='relu'))\n",
    "    model.add(Dropout(0.2))\n",
    "    model.add(Dense(128, init='normal', activation='relu'))\n",
    "    model.add(Dropout(0.2))\n",
    "    model.add(Dense(64, init='normal', activation='relu'))\n",
    "    model.add(Dropout(0.08))\n",
    "    model.add(Flatten())\n",
    "    \n",
    "    model.add(Dense(9, init='normal', activation=\"softmax\"))\n",
    "    #adam = Adam(lr=0.001, beta_1=0.9, beta_2=0.999, epsilon=1e-08, decay=0.0)\n",
    "    model.compile(loss = 'categorical_crossentropy', optimizer='adam', metrics = ['accuracy'])\n",
    "    return model "
   ]
  },
  {
   "cell_type": "code",
   "execution_count": 129,
   "metadata": {},
   "outputs": [
    {
     "name": "stderr",
     "output_type": "stream",
     "text": [
      "C:\\Users\\ahmed\\Anaconda3\\envs\\tf_gpu\\lib\\site-packages\\ipykernel_launcher.py:10: UserWarning: Update your `Dense` call to the Keras 2 API: `Dense(128, activation=\"relu\", kernel_initializer=\"normal\")`\n",
      "  # Remove the CWD from sys.path while we load stuff.\n",
      "C:\\Users\\ahmed\\Anaconda3\\envs\\tf_gpu\\lib\\site-packages\\ipykernel_launcher.py:12: UserWarning: Update your `Dense` call to the Keras 2 API: `Dense(128, activation=\"relu\", kernel_initializer=\"normal\")`\n",
      "  if sys.path[0] == '':\n",
      "C:\\Users\\ahmed\\Anaconda3\\envs\\tf_gpu\\lib\\site-packages\\ipykernel_launcher.py:14: UserWarning: Update your `Dense` call to the Keras 2 API: `Dense(128, activation=\"relu\", kernel_initializer=\"normal\")`\n",
      "  \n",
      "C:\\Users\\ahmed\\Anaconda3\\envs\\tf_gpu\\lib\\site-packages\\ipykernel_launcher.py:16: UserWarning: Update your `Dense` call to the Keras 2 API: `Dense(64, activation=\"relu\", kernel_initializer=\"normal\")`\n",
      "  app.launch_new_instance()\n",
      "C:\\Users\\ahmed\\Anaconda3\\envs\\tf_gpu\\lib\\site-packages\\ipykernel_launcher.py:20: UserWarning: Update your `Dense` call to the Keras 2 API: `Dense(9, activation=\"softmax\", kernel_initializer=\"normal\")`\n"
     ]
    },
    {
     "name": "stdout",
     "output_type": "stream",
     "text": [
      "_________________________________________________________________\n",
      "Layer (type)                 Output Shape              Param #   \n",
      "=================================================================\n",
      "lstm_17 (LSTM)               (None, 1, 250)            501000    \n",
      "_________________________________________________________________\n",
      "lstm_18 (LSTM)               (None, 1, 250)            501000    \n",
      "_________________________________________________________________\n",
      "lstm_19 (LSTM)               (None, 1, 200)            360800    \n",
      "_________________________________________________________________\n",
      "lstm_20 (LSTM)               (None, 1, 200)            320800    \n",
      "_________________________________________________________________\n",
      "dropout_22 (Dropout)         (None, 1, 200)            0         \n",
      "_________________________________________________________________\n",
      "dense_23 (Dense)             (None, 1, 128)            25728     \n",
      "_________________________________________________________________\n",
      "dropout_23 (Dropout)         (None, 1, 128)            0         \n",
      "_________________________________________________________________\n",
      "dense_24 (Dense)             (None, 1, 128)            16512     \n",
      "_________________________________________________________________\n",
      "dropout_24 (Dropout)         (None, 1, 128)            0         \n",
      "_________________________________________________________________\n",
      "dense_25 (Dense)             (None, 1, 128)            16512     \n",
      "_________________________________________________________________\n",
      "dropout_25 (Dropout)         (None, 1, 128)            0         \n",
      "_________________________________________________________________\n",
      "dense_26 (Dense)             (None, 1, 64)             8256      \n",
      "_________________________________________________________________\n",
      "dropout_26 (Dropout)         (None, 1, 64)             0         \n",
      "_________________________________________________________________\n",
      "flatten_3 (Flatten)          (None, 64)                0         \n",
      "_________________________________________________________________\n",
      "dense_27 (Dense)             (None, 9)                 585       \n",
      "=================================================================\n",
      "Total params: 1,751,193\n",
      "Trainable params: 1,751,193\n",
      "Non-trainable params: 0\n",
      "_________________________________________________________________\n"
     ]
    }
   ],
   "source": [
    "model=lstm_baseline_model(X_train_res.shape[0],X_train_res.shape[1])\n",
    "model.summary()"
   ]
  },
  {
   "cell_type": "code",
   "execution_count": 51,
   "metadata": {},
   "outputs": [],
   "source": [
    "from sklearn.model_selection import KFold\n",
    "from sklearn.model_selection import StratifiedKFold\n",
    "from sklearn.metrics import classification_report\n",
    "from sklearn.metrics import confusion_matrix"
   ]
  },
  {
   "cell_type": "code",
   "execution_count": 130,
   "metadata": {},
   "outputs": [],
   "source": [
    "folds= StratifiedKFold(n_splits=10,shuffle=True, random_state=999)\n"
   ]
  },
  {
   "cell_type": "code",
   "execution_count": null,
   "metadata": {},
   "outputs": [],
   "source": [
    "X_train_reshaped= np.reshape(X_train_res, (X_train_res.shape[0],1,X_train_res.shape[1]))"
   ]
  },
  {
   "cell_type": "code",
   "execution_count": 106,
   "metadata": {},
   "outputs": [
    {
     "name": "stdout",
     "output_type": "stream",
     "text": [
      "(7751,) (862,)\n",
      "(7751,) (862,)\n",
      "(7751,) (862,)\n",
      "(7752,) (861,)\n",
      "(7752,) (861,)\n",
      "(7752,) (861,)\n",
      "(7752,) (861,)\n",
      "(7752,) (861,)\n",
      "(7752,) (861,)\n",
      "(7752,) (861,)\n"
     ]
    }
   ],
   "source": [
    "test_set1=[]\n",
    "test_set2=[]\n",
    "test_set3=[]\n",
    "test_set4=[]\n",
    "test_set5=[]\n",
    "i=1\n",
    "for train_index, test_index in folds.split(X_train_reshaped, y_train):\n",
    "    if i==1:\n",
    "        test_set1=test_index\n",
    "    elif i==2:\n",
    "        test_set2=test_index\n",
    "    elif i==3:\n",
    "        test_set3=test_index\n",
    "    elif i==4:\n",
    "        test_set4=test_index\n",
    "    elif i==5:\n",
    "        test_set5=test_index\n",
    "    \n",
    "    i=i+1\n",
    "    \n",
    "    print(train_index.shape, test_index.shape)\n",
    "    for item in test_index:\n",
    "        if(item in train_index):\n",
    "            print(\"true\")\n",
    "    \n",
    "    "
   ]
  },
  {
   "cell_type": "code",
   "execution_count": 57,
   "metadata": {},
   "outputs": [
    {
     "data": {
      "text/plain": [
       "set()"
      ]
     },
     "execution_count": 57,
     "metadata": {},
     "output_type": "execute_result"
    }
   ],
   "source": [
    "set(test_set2)& set(test_set1)"
   ]
  },
  {
   "cell_type": "code",
   "execution_count": 131,
   "metadata": {},
   "outputs": [],
   "source": [
    "def train_nn_model(model, train_set, encoded_y,train_y, filename = ''):  #best_weight_predict_all.h5\n",
    "    if os.path.isfile(filename):\n",
    "        model.load_weights(filename)\n",
    "        print('successful load\\n')\n",
    "    else:\n",
    "        print('begin training\\n')\n",
    "        best_acc = 0\n",
    "        acc = []\n",
    "        val_acc = []\n",
    "        \n",
    "        loss = []\n",
    "        val_loss = []\n",
    "        for train_index, test_index in folds.split(train_set, train_y):\n",
    "            X_train, X_test, Y_train, Y_test = train_set[train_index], train_set[test_index], encoded_y[train_index], encoded_y[test_index]\n",
    "            \n",
    "            \n",
    "            for i in range(1):\n",
    "                #estimator=model.fit(train_set, encoded_y, validation_split=0.1, epochs=2, batch_size=64\n",
    "                \n",
    "                estimator=model.fit(X_train, Y_train, validation_data=(X_test, Y_test), callbacks=[monitor],epochs=1000, batch_size=64, verbose=0)\n",
    "                if (best_acc < estimator.history['val_acc'][-1] * 100):\n",
    "                    best_acc = estimator.history['val_acc'][-1] * 100\n",
    "                    model.save_weights(filename)\n",
    "                print(\"Training accuracy: %.2f%% / Best validation accuracy: %.2f%%\" % (100*estimator.history['acc'][-1], best_acc))\n",
    "                acc += estimator.history['acc']\n",
    "                val_acc += estimator.history['val_acc']\n",
    "                loss += estimator.history['loss']\n",
    "                val_loss += estimator.history['val_loss']\n",
    "            \n",
    "        #plot the history for loss and accuracy\n",
    "        plt.plot(acc)\n",
    "        plt.plot(val_acc)\n",
    "        plt.title('model accuracy')\n",
    "        plt.ylabel('accuracy')\n",
    "        plt.xlabel('epoch')\n",
    "        plt.legend(['train', 'valid'], loc='upper left')\n",
    "        plt.show()\n",
    "        plt.plot(loss)\n",
    "        plt.plot(val_loss)\n",
    "        plt.title('model loss')\n",
    "        plt.ylabel('loss')\n",
    "        plt.xlabel('epoch')\n",
    "        plt.legend(['train', 'valid'], loc='upper left')\n",
    "        plt.show()\n",
    "    return model"
   ]
  },
  {
   "cell_type": "code",
   "execution_count": 82,
   "metadata": {},
   "outputs": [],
   "source": [
    "#model = nn_baseline_model(TEXT_INPUT_DIM, GENE_INPUT_DIM, GENE_INPUT_DIM)\n",
    "#model.summary()"
   ]
  },
  {
   "cell_type": "code",
   "execution_count": 83,
   "metadata": {},
   "outputs": [],
   "source": [
    "#6folds= StratifiedKFold(n_splits=10,shuffle=True, random_state=999)\n"
   ]
  },
  {
   "cell_type": "code",
   "execution_count": 108,
   "metadata": {},
   "outputs": [
    {
     "data": {
      "text/plain": [
       "(8613, 1, 250)"
      ]
     },
     "execution_count": 108,
     "metadata": {},
     "output_type": "execute_result"
    }
   ],
   "source": [
    "X_train_reshaped.shape"
   ]
  },
  {
   "cell_type": "code",
   "execution_count": 109,
   "metadata": {},
   "outputs": [
    {
     "data": {
      "text/plain": [
       "array([1, 2, 2, ..., 2, 7, 2])"
      ]
     },
     "execution_count": 109,
     "metadata": {},
     "output_type": "execute_result"
    }
   ],
   "source": [
    "train_y"
   ]
  },
  {
   "cell_type": "code",
   "execution_count": 132,
   "metadata": {},
   "outputs": [],
   "source": [
    "monitor = EarlyStopping(monitor='val_loss', min_delta=1e-3, patience=5, verbose=1, mode='auto',\n",
    "        restore_best_weights=True)"
   ]
  },
  {
   "cell_type": "code",
   "execution_count": 134,
   "metadata": {},
   "outputs": [
    {
     "name": "stdout",
     "output_type": "stream",
     "text": [
      "begin training\n",
      "\n",
      "Restoring model weights from the end of the best epoch\n",
      "Epoch 00044: early stopping\n",
      "Training accuracy: 68.55% / Best validation accuracy: 71.23%\n",
      "Restoring model weights from the end of the best epoch\n",
      "Epoch 00023: early stopping\n",
      "Training accuracy: 71.71% / Best validation accuracy: 76.68%\n",
      "Restoring model weights from the end of the best epoch\n",
      "Epoch 00009: early stopping\n",
      "Training accuracy: 71.75% / Best validation accuracy: 77.26%\n",
      "Restoring model weights from the end of the best epoch\n",
      "Epoch 00011: early stopping\n",
      "Training accuracy: 72.63% / Best validation accuracy: 77.26%\n",
      "Restoring model weights from the end of the best epoch\n",
      "Epoch 00009: early stopping\n",
      "Training accuracy: 72.99% / Best validation accuracy: 78.05%\n",
      "Restoring model weights from the end of the best epoch\n",
      "Epoch 00011: early stopping\n",
      "Training accuracy: 73.65% / Best validation accuracy: 80.72%\n",
      "Restoring model weights from the end of the best epoch\n",
      "Epoch 00006: early stopping\n",
      "Training accuracy: 73.56% / Best validation accuracy: 81.53%\n",
      "Restoring model weights from the end of the best epoch\n",
      "Epoch 00010: early stopping\n",
      "Training accuracy: 74.05% / Best validation accuracy: 81.53%\n",
      "Restoring model weights from the end of the best epoch\n",
      "Epoch 00006: early stopping\n",
      "Training accuracy: 75.45% / Best validation accuracy: 81.77%\n",
      "Restoring model weights from the end of the best epoch\n",
      "Epoch 00008: early stopping\n",
      "Training accuracy: 73.83% / Best validation accuracy: 81.77%\n"
     ]
    },
    {
     "data": {
      "image/png": "[encoded data removed]",
      "text/plain": [
       "<Figure size 432x288 with 1 Axes>"
      ]
     },
     "metadata": {
      "needs_background": "light"
     },
     "output_type": "display_data"
    },
    {
     "data": {
      "image/png": "[encoded data removed]",
      "text/plain": [
       "<Figure size 432x288 with 1 Axes>"
      ]
     },
     "metadata": {
      "needs_background": "light"
     },
     "output_type": "display_data"
    }
   ],
   "source": [
    "#for train_index, test_index in folds.split(train_set, train_y):\n",
    " #   X_train, X_test, Y_train, Y_test = train_set[train_index], train_set[test_index], encoded_y[train_index], encoded_y[test_index]\n",
    "    \n",
    "    \n",
    "    \n",
    "model = train_nn_model(model, X_train_reshaped, encoded_y,y_train, filename = 'demo_NN.h5' )"
   ]
  },
  {
   "cell_type": "code",
   "execution_count": null,
   "metadata": {},
   "outputs": [],
   "source": []
  },
  {
   "cell_type": "code",
   "execution_count": null,
   "metadata": {},
   "outputs": [],
   "source": []
  },
  {
   "cell_type": "code",
   "execution_count": null,
   "metadata": {},
   "outputs": [],
   "source": []
  },
  {
   "cell_type": "code",
   "execution_count": null,
   "metadata": {},
   "outputs": [],
   "source": []
  },
  {
   "cell_type": "code",
   "execution_count": null,
   "metadata": {},
   "outputs": [],
   "source": []
  },
  {
   "cell_type": "code",
   "execution_count": 97,
   "metadata": {},
   "outputs": [],
   "source": [
    "test_set_reshaped= np.reshape(test_set, (test_set.shape[0],1,test_set.shape[1]))"
   ]
  },
  {
   "cell_type": "code",
   "execution_count": 135,
   "metadata": {},
   "outputs": [],
   "source": [
    "\n",
    "#model = train_nn_model(model, train_set, encoded_y, filename = 'demo_NN.h5' ) #demo_NN.h5\n",
    "y_predict = model.predict_proba(test_set_reshaped)"
   ]
  },
  {
   "cell_type": "code",
   "execution_count": 136,
   "metadata": {},
   "outputs": [
    {
     "data": {
      "text/plain": [
       "(986, 9)"
      ]
     },
     "execution_count": 136,
     "metadata": {},
     "output_type": "execute_result"
    }
   ],
   "source": [
    "y_predict.shape\n"
   ]
  },
  {
   "cell_type": "code",
   "execution_count": 137,
   "metadata": {},
   "outputs": [],
   "source": [
    "def savesubmission(pred, test_x, filename = \"submission_all.csv\"):\n",
    "    submission = pd.DataFrame(pred)\n",
    "    submission.insert(0, 'ID', test_x['ID'])\n",
    "    submission.columns = ['ID','class1', 'class2', 'class3', 'class4', 'class5', 'class6', 'class7', 'class8', 'class9']\n",
    "    submission.to_csv(filename,index=False)\n",
    "    submission.head()"
   ]
  },
  {
   "cell_type": "code",
   "execution_count": 138,
   "metadata": {},
   "outputs": [],
   "source": [
    "savesubmission(y_predict, test_x, filename = \"to_submit_2.csv\")"
   ]
  },
  {
   "cell_type": "code",
   "execution_count": null,
   "metadata": {},
   "outputs": [],
   "source": []
  }
 ],
 "metadata": {
  "kernelspec": {
   "display_name": "Python 3",
   "language": "python",
   "name": "python3"
  },
  "language_info": {
   "codemirror_mode": {
    "name": "ipython",
    "version": 3
   },
   "file_extension": ".py",
   "mimetype": "text/x-python",
   "name": "python",
   "nbconvert_exporter": "python",
   "pygments_lexer": "ipython3",
   "version": "3.7.7"
  }
 },
 "nbformat": 4,
 "nbformat_minor": 2
}
